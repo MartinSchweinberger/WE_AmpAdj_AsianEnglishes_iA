{
    "cells": [
        {
            "cell_type": "markdown",
            "metadata": {},
            "source": [
                "# A corpus-based analysis of ongoing change in the adjective amplifier systems of Hong Kong, Philippine, and Indian English - Part 2\n",
                "\n",
                "author: Anonymous  \n",
                "\n",
                "date: 21.2.2024\n",
                "\n",
                "## Introduction\n",
                "\n",
                "This document shows an analysis of adjective amplification in Hong Kong, Indian , and Philippine English based on the respective components of the International Corpus of English (ICE).  \n",
                "\n",
                "### Preparation\n",
                "\n",
                "Activate packages and set options.\n"
            ]
        },
        {
            "cell_type": "code",
            "execution_count": null,
            "metadata": {},
            "outputs": [],
            "source": [
                "# load packages\n",
                "library(dplyr)\n",
                "library(tidyr)\n",
                "library(tibble)\n",
                "library(here)\n",
                "library(ggparty)\n",
                "library(partykit)\n",
                "library(caret)\n",
                "library(DescTools)\n",
                "# set options\n",
                "options(stringsAsFactors = F)                           \n",
                "options(scipen = 999) \n",
                "options(max.print=10000)   \n"
            ]
        },
        {
            "cell_type": "markdown",
            "metadata": {},
            "source": [
                "Silence warnings.\n",
                "\n"
            ]
        },
        {
            "cell_type": "code",
            "execution_count": null,
            "metadata": {},
            "outputs": [],
            "source": [
                "knitr::opts_chunk$set(error = TRUE)\n",
                "\n"
            ]
        },
        {
            "cell_type": "markdown",
            "metadata": {},
            "source": [
                "### Load data\n",
                "\n"
            ]
        },
        {
            "cell_type": "code",
            "execution_count": null,
            "metadata": {},
            "outputs": [],
            "source": [
                "ice <- base::readRDS(file = here::here(\"data\", \"iceamp_prefinal.rda\"))\n",
                "# inspect\n",
                "head(ice)\n"
            ]
        },
        {
            "cell_type": "markdown",
            "metadata": {},
            "source": [
                "### Clean data\n",
                "\n",
                "Check date distribution.\n"
            ]
        },
        {
            "cell_type": "code",
            "execution_count": null,
            "metadata": {},
            "outputs": [],
            "source": [
                "table(ice$Corpus, ice$Date)\n",
                "\n"
            ]
        },
        {
            "cell_type": "markdown",
            "metadata": {},
            "source": [
                "Check age distribution.\n",
                "\n"
            ]
        },
        {
            "cell_type": "code",
            "execution_count": null,
            "metadata": {},
            "outputs": [],
            "source": [
                "table(ice$Corpus, ice$Age)\n",
                "\n"
            ]
        },
        {
            "cell_type": "markdown",
            "metadata": {},
            "source": [
                "Check gradability distribution.\n",
                "\n"
            ]
        },
        {
            "cell_type": "code",
            "execution_count": null,
            "metadata": {},
            "outputs": [],
            "source": [
                "ice %>%\n",
                "  dplyr::group_by(Adjective) %>%\n",
                "  dplyr::summarise(Gradability = mean(Gradability)) %>%\n",
                "  ggplot(aes(Adjective, Gradability, label=Adjective)) +\n",
                "  geom_text(size = 2)\n"
            ]
        },
        {
            "cell_type": "markdown",
            "metadata": {},
            "source": [
                "Factorize predictors and scale frequency.\n",
                "\n"
            ]
        },
        {
            "cell_type": "code",
            "execution_count": null,
            "metadata": {},
            "outputs": [],
            "source": [
                "ice <- ice %>%\n",
                "  select(-Id, -PreContext, -Token, -L1, -Postag, -PostContext, -PreContextLong, -Nationality, -OtherLanguages, -Birthplace) %>%\n",
                "  dplyr::mutate(Speaker = paste0(Corpus, \":\", File, \"$\", Speaker),\n",
                "                Variety = dplyr::case_when(Corpus == \"ICE-HK\" ~ \"HKE\",\n",
                "                                           Corpus == \"ICE-IND\" ~ \"IndE\",\n",
                "                                           Corpus == \"ICE-PHI\" ~ \"PhiE\",\n",
                "                                           T ~ Corpus)) %>%\n",
                "  dplyr::mutate(Age = dplyr::case_when(Age == \"17-25\" ~ \"16-25\",\n",
                "                                       Age == \"18-25\" ~ \"16-25\",\n",
                "                                       Age == \"26-41\" ~ \"26-40\",\n",
                "                                       Age == \"42+\" ~ \"41+\",\n",
                "                                       T ~ Age)) %>%\n",
                "  dplyr::mutate(Date = as.numeric(as.character(Date)),\n",
                "                Date = ifelse(Date < 1998, \"1997-\", \"1998+\")) \n",
                "# inspect\n",
                "str(ice)\n"
            ]
        },
        {
            "cell_type": "markdown",
            "metadata": {},
            "source": [
                "Remove not amplified adjectives.\n",
                "\n"
            ]
        },
        {
            "cell_type": "code",
            "execution_count": null,
            "metadata": {},
            "outputs": [],
            "source": [
                "amp <- ice %>%\n",
                "  dplyr::filter(Variant != \"0\")\n"
            ]
        },
        {
            "cell_type": "markdown",
            "metadata": {},
            "source": [
                "Check semantic categories distribution.\n",
                "\n"
            ]
        },
        {
            "cell_type": "code",
            "execution_count": null,
            "metadata": {},
            "outputs": [],
            "source": [
                "ice %>%\n",
                "  dplyr::filter(SemanticCategory == \"other\") %>%\n",
                "  dplyr::group_by(Adjective) %>%\n",
                "  dplyr::summarise(Freq = n()) %>%\n",
                "  dplyr::sample_n(20) \n"
            ]
        },
        {
            "cell_type": "markdown",
            "metadata": {},
            "source": [
                "## Visualization\n",
                "\n",
                "Generate Fig2.\n"
            ]
        },
        {
            "cell_type": "code",
            "execution_count": null,
            "metadata": {},
            "outputs": [],
            "source": [
                "ice %>%\n",
                "  # data prep\n",
                "  dplyr::group_by(Variety, Amplified, Function) %>%\n",
                "  dplyr::summarise(Freq = n()) %>%\n",
                "  dplyr::group_by(Variety) %>%\n",
                "  dplyr::mutate(Total = sum(Freq),\n",
                "                Percent = round(Freq/Total*100, 1),\n",
                "                Label = paste0(Percent, \" (\", Freq, \")\")) %>%\n",
                "  dplyr::filter(Amplified == 1) %>%\n",
                "  # plot\n",
                "  ggplot(aes(x=Variety, y= Percent, group = Function, fill = Function, label = Label)) +          \n",
                "  geom_text(aes(y = Percent + 1), position = position_dodge(0.9), size=3) +     \n",
                "  geom_bar(stat = \"identity\", position = position_dodge()) + \n",
                "  coord_cartesian(ylim = c(0, 20)) +\n",
                "  theme_bw(base_size = 10) +         \n",
                "  theme(axis.text.x = element_text(size=10),  \n",
                "        axis.text.y = element_text(size=10, face=\"plain\"),\n",
                "        legend.position = \"top\") + \n",
                "  labs(x = \"Variety of English\", y = \"Percent (of Amplification)\") +     \n",
                "  scale_fill_manual(values = c(\"gray80\", \"gray40\")) \n",
                "# save (uncheck to save)\n",
                "#ggsave(here::here(\"images\", \"Fig2.png\"), width = 15, height = 10,unit = \"cm\")\n"
            ]
        },
        {
            "cell_type": "markdown",
            "metadata": {},
            "source": [
                "Generate Fig1.\n",
                "\n"
            ]
        },
        {
            "cell_type": "code",
            "execution_count": null,
            "metadata": {},
            "outputs": [],
            "source": [
                "amp %>%\n",
                "  dplyr::group_by(Variety, Variant) %>%\n",
                "  dplyr::summarise(Freq = n()) %>%\n",
                "  dplyr::group_by(Variety) %>%\n",
                "  dplyr::mutate(Total = sum(Freq),\n",
                "                Percent = round(Freq/Total*100, 1),\n",
                "                Label = paste0(Percent, \" (\", Freq, \")\")) %>%\n",
                "  dplyr::group_by(Variant) %>%\n",
                "  dplyr::mutate(VarFreq = sum(Freq)) %>%\n",
                "  # start plot\n",
                "  ggplot(aes(x=reorder(Variant, VarFreq), y = Percent, label = Label)) + \n",
                "  geom_text(hjust = -0.1, size=3, angle = 0) +     \n",
                "  geom_bar(stat = \"identity\") + \n",
                "  coord_flip(ylim = c(0, 119)) +\n",
                "  theme_bw(base_size = 10) +         \n",
                "  theme(axis.text.x = element_text(size=10),  \n",
                "        axis.text.y = element_text(size=10, face=\"plain\"),\n",
                "        panel.grid.major = element_blank(), panel.grid.minor = element_blank()) + \n",
                "  labs(x = \"Amplifier Variant\", y = \"Percent (N)\") +     \n",
                "  scale_color_manual(guide = FALSE) +\n",
                "  facet_wrap(~Variety)\n",
                "# save (uncheck to save)\n",
                "#ggsave(here::here(\"images\", \"Fig1.png\"), width = 15, height = 15, unit = \"cm\")\n"
            ]
        },
        {
            "cell_type": "markdown",
            "metadata": {},
            "source": [
                "### Data Reduction\n",
                "\n",
                "Determine adjective frequency.\n"
            ]
        },
        {
            "cell_type": "code",
            "execution_count": null,
            "metadata": {},
            "outputs": [],
            "source": [
                "fadj <- names(table(amp$Adjective))[which(table(amp$Adjective) > 25)]\n",
                "fadj\n"
            ]
        },
        {
            "cell_type": "markdown",
            "metadata": {},
            "source": [
                "Determine variant frequency.\n",
                "\n"
            ]
        },
        {
            "cell_type": "code",
            "execution_count": null,
            "metadata": {},
            "outputs": [],
            "source": [
                "famp <- names(table(amp$Variant))[which(table(amp$Variant) > 50)]\n",
                "famp\n"
            ]
        },
        {
            "cell_type": "markdown",
            "metadata": {},
            "source": [
                "Collapse infrequent adjectives and amplifiers.\n",
                "\n"
            ]
        },
        {
            "cell_type": "code",
            "execution_count": null,
            "metadata": {},
            "outputs": [],
            "source": [
                "amp <- amp %>%\n",
                "  dplyr::mutate(Frequency = round(Frequency, 3),\n",
                "                Gradability = round(Gradability, 3),\n",
                "                Adjective = ifelse(Adjective %in% fadj,  Adjective, \"other\"),\n",
                "                SVariant = Variant, \n",
                "                Variant = ifelse(Variant %in% famp, Variant, \"other\")) %>%\n",
                "  dplyr::select(-Corpus, -Amplified, -File) %>%\n",
                "  dplyr::mutate_if(is.character, factor) %>%\n",
                "  droplevels()\n",
                "# inspect\n",
                "str(amp)\n"
            ]
        },
        {
            "cell_type": "markdown",
            "metadata": {},
            "source": [
                "Generate Fig3.\n",
                "\n"
            ]
        },
        {
            "cell_type": "code",
            "execution_count": null,
            "metadata": {},
            "outputs": [],
            "source": [
                "amp %>%\n",
                "  # prep\n",
                "  dplyr::group_by(Variety, Function, Age, Variant) %>%\n",
                "  dplyr::summarise(Freq = n()) %>%\n",
                "  dplyr::group_by(Variety, Function, Age) %>%\n",
                "  dplyr::mutate(Total = sum(Freq),\n",
                "                Percent = round(Freq/Total*100, 1)) %>%\n",
                "  dplyr::mutate_if(is.character, factor) %>%\n",
                "  # plot\n",
                "  ggplot(aes(y = Percent, x = Age, linetype = Variant, shape = Variant, group = Variant)) +\n",
                "  geom_line(size = .5) +\n",
                "  geom_point(shape = 19, size=8, colour=\"white\") + \n",
                "  geom_point(size = 3) +\n",
                "  scale_shape_manual(values = c(\"o\", \"r\", \"s\", \"v\")) +\n",
                "  facet_grid(Function~Variety) +\n",
                "  theme_bw() +\n",
                "  theme(legend.position = \"top\",\n",
                "        axis.text.x = element_text(size=10),  \n",
                "        axis.text.y = element_text(size=10, face=\"plain\"),\n",
                "        panel.grid.major = element_blank(), \n",
                "        panel.grid.minor = element_blank()) +\n",
                "  coord_cartesian(ylim = c(0, 119))\n",
                "# save (uncheck to save)\n",
                "#ggsave(here::here(\"images\", \"Fig3.png\"), width = 15, height = 10,unit = \"cm\")\n"
            ]
        },
        {
            "cell_type": "markdown",
            "metadata": {},
            "source": [
                "### Tabulation\n",
                "\n"
            ]
        },
        {
            "cell_type": "code",
            "execution_count": null,
            "metadata": {},
            "outputs": [],
            "source": [
                "# process\n",
                "tb1a <- amp %>%\n",
                "  dplyr::group_by(Variety, Age, Gender) %>%\n",
                "  dplyr::summarize(Adjectives = n(),\n",
                "            VariantType = names(table(Variant)),\n",
                "            VariantsN = table(Variant),\n",
                "            VariantsP = round(VariantsN/Adjectives*100, 1),\n",
                "            Percent = paste0(VariantsP, \"% (N=\", VariantsN, \")\")) %>%\n",
                "  dplyr::select(-VariantsN, -VariantsP) %>%\n",
                "  tidyr::spread(VariantType, Percent) %>%\n",
                "  dplyr::ungroup()\n",
                "# save (uncheck to save)\n",
                "#writexl::write_xlsx(tb1a, here::here(\"tables\", \"tb1a.xlsx\"))\n",
                "# inspect data\n",
                "tb1a\n"
            ]
        },
        {
            "cell_type": "markdown",
            "metadata": {},
            "source": [
                "\n",
                "\n"
            ]
        },
        {
            "cell_type": "code",
            "execution_count": null,
            "metadata": {},
            "outputs": [],
            "source": [
                "tb1b <- amp %>%\n",
                "  dplyr::mutate(Variant = dplyr::case_when(Variant == \"very\" ~ \"very\",\n",
                "                                           Variant == \"really\" ~ \"really\",\n",
                "                                           Variant == \"so\" ~ \"so\",\n",
                "                                           T ~ \"other\")) %>%\n",
                "  dplyr::group_by(Variety) %>%\n",
                "  dplyr::reframe(Speakers = length(names(table(Speaker)[table(Speaker) > 0])),\n",
                "                 Adjectives = n(),\n",
                "                 VariantType = names(table(Variant)),\n",
                "                 VariantsN = table(Variant),\n",
                "                 VariantsP = round(VariantsN/Adjectives*100, 1),\n",
                "                 Percent = paste0(VariantsP, \"% (N=\", VariantsN, \")\")) %>%\n",
                "  dplyr::select(-VariantsN, -VariantsP) %>%\n",
                "  tidyr::spread(VariantType, Percent) %>%\n",
                "  dplyr::ungroup() %>%\n",
                "  tibble::add_row(Variety = \"Total\",\n",
                "                  Speakers = sum(.$Speakers),\n",
                "                  Adjectives = sum(.$Adjectives),\n",
                "                  other = as.character(sum(as.numeric(gsub(\".*\\\\=([0-9]{1,})\\\\)\", \"\\\\1\", .$other)))),\n",
                "                  really = as.character(sum(as.numeric(gsub(\".*\\\\=([0-9]{1,})\\\\)\", \"\\\\1\", .$really)))),\n",
                "                  so = as.character(sum(as.numeric(gsub(\".*\\\\=([0-9]{1,})\\\\)\", \"\\\\1\", .$so)))),\n",
                "                  very = as.character(sum(as.numeric(gsub(\".*\\\\=([0-9]{1,})\\\\)\", \"\\\\1\", .$very))))) %>%\n",
                "  dplyr::mutate(other = ifelse(Variety == \"Total\", paste0(round(as.numeric(other)/Adjectives*100, 1), \"% (N=\", other, \")\"), other),\n",
                "                really = ifelse(Variety == \"Total\", paste0(round(as.numeric(really)/Adjectives*100, 1), \"% (N=\", really, \")\"), really),\n",
                "                so = ifelse(Variety == \"Total\", paste0(round(as.numeric(so)/Adjectives*100, 1), \"% (N=\", so, \")\"), so),\n",
                "                very = ifelse(Variety == \"Total\", paste0(round(as.numeric(very)/Adjectives*100, 1), \"% (N=\", very, \")\"), very))\n",
                "# save (uncheck to save)\n",
                "#writexl::write_xlsx(tb1b, here::here(\"tables\", \"tb1b.xlsx\")) \n",
                "# inspect data\n",
                "tb1b\n"
            ]
        },
        {
            "cell_type": "markdown",
            "metadata": {},
            "source": [
                "\n",
                "\n"
            ]
        },
        {
            "cell_type": "code",
            "execution_count": null,
            "metadata": {},
            "outputs": [],
            "source": [
                "amp %>%\n",
                "  dplyr::group_by(Variety, Speaker) %>%\n",
                "  dplyr::summarise(Frequency = n()) %>%\n",
                "  dplyr::arrange(-Frequency) %>%\n",
                "  dplyr::ungroup() %>%\n",
                "  dplyr::group_by(Variety) %>%\n",
                "  dplyr::mutate(Speaker = 1:n()) %>%\n",
                "  dplyr::ungroup() %>%\n",
                "  ggplot(aes(x = Speaker, y = Frequency, group = Variety, fill = Variety)) +\n",
                "  geom_bar(stat = \"identity\") +\n",
                "  facet_wrap(~Variety) +\n",
                "  theme_bw() +\n",
                "  theme(legend.position = \"top\") +\n",
                "  scale_color_manual(values = c(\"gray80\", \"gray50\", \"gray20\"))\n"
            ]
        },
        {
            "cell_type": "markdown",
            "metadata": {},
            "source": [
                "## Preparation for stats \n",
                "\n",
                "### Clean data\n",
                "\n",
                "Check amplifiers by variety.\n",
                "\n",
                "IndE\n"
            ]
        },
        {
            "cell_type": "code",
            "execution_count": null,
            "metadata": {},
            "outputs": [],
            "source": [
                "amp %>%\n",
                "  dplyr::filter(Variety == \"IndE\") %>%\n",
                "  dplyr::group_by(SVariant) %>%\n",
                "  dplyr::summarise(Freq = n()) %>%\n",
                "  dplyr::ungroup() %>%\n",
                "  dplyr::mutate(All = sum(Freq)) %>%\n",
                "  dplyr::summarise(NVariants = nrow(.),\n",
                "                   NAdjs = unique(All),\n",
                "                   Rate = round(NAdjs/NVariants, 1))\n"
            ]
        },
        {
            "cell_type": "markdown",
            "metadata": {},
            "source": [
                "HKE.\n",
                "\n"
            ]
        },
        {
            "cell_type": "code",
            "execution_count": null,
            "metadata": {},
            "outputs": [],
            "source": [
                "amp %>%\n",
                "  dplyr::filter(Variety == \"HKE\") %>%\n",
                "  dplyr::group_by(SVariant) %>%\n",
                "  dplyr::summarise(Freq = n()) %>%\n",
                "  dplyr::ungroup() %>%\n",
                "  dplyr::mutate(All = sum(Freq)) %>%\n",
                "  dplyr::summarise(NVariants = nrow(.),\n",
                "                   NAdjs = unique(All),\n",
                "                   Rate = round(NAdjs/NVariants, 1))\n"
            ]
        },
        {
            "cell_type": "markdown",
            "metadata": {},
            "source": [
                "PhiE.\n",
                "\n"
            ]
        },
        {
            "cell_type": "code",
            "execution_count": null,
            "metadata": {},
            "outputs": [],
            "source": [
                "amp %>%\n",
                "  dplyr::filter(Variety == \"PhiE\") %>%\n",
                "  dplyr::group_by(SVariant) %>%\n",
                "  dplyr::summarise(Freq = n()) %>%\n",
                "  dplyr::ungroup() %>%\n",
                "  dplyr::mutate(All = sum(Freq)) %>%\n",
                "  dplyr::summarise(NVariants = nrow(.),\n",
                "                   NAdjs = unique(All),\n",
                "                   Rate = round(NAdjs/NVariants, 1))\n"
            ]
        },
        {
            "cell_type": "markdown",
            "metadata": {},
            "source": [
                "Factorize predictors and scale frequency.\n",
                "\n"
            ]
        },
        {
            "cell_type": "code",
            "execution_count": null,
            "metadata": {},
            "outputs": [],
            "source": [
                "ice <- amp %>%\n",
                "  select(-SVariant)  %>%\n",
                "  droplevels()\n",
                "# inspect\n",
                "str(ice)\n"
            ]
        },
        {
            "cell_type": "markdown",
            "metadata": {},
            "source": [
                "Check gradability.\n",
                "\n"
            ]
        },
        {
            "cell_type": "code",
            "execution_count": null,
            "metadata": {},
            "outputs": [],
            "source": [
                "summary(ice$Gradability)\n",
                "\n"
            ]
        },
        {
            "cell_type": "markdown",
            "metadata": {},
            "source": [
                "Check frequency.\n",
                "\n"
            ]
        },
        {
            "cell_type": "code",
            "execution_count": null,
            "metadata": {},
            "outputs": [],
            "source": [
                "summary(ice$Frequency)\n",
                "\n"
            ]
        },
        {
            "cell_type": "markdown",
            "metadata": {},
            "source": [
                "Split data by variety.\n",
                "\n"
            ]
        },
        {
            "cell_type": "code",
            "execution_count": null,
            "metadata": {},
            "outputs": [],
            "source": [
                "hke <- ice %>% dplyr::filter(Variety == \"HKE\") %>% dplyr::select(-Variety, -Speaker) %>% droplevels() %>% na.omit()\n",
                "ind <- ice %>% dplyr::filter(Variety == \"IndE\") %>% dplyr::select(-Variety, -Speaker, -Date, -EducationLevel, -Ethnicity) %>% droplevels() %>% na.omit()\n",
                "phi <- ice %>% dplyr::filter(Variety == \"PhiE\") %>% dplyr::select(-Variety, -Speaker, -EducationLevel, -Ethnicity) %>% droplevels() %>% na.omit()\n",
                "# inspect\n",
                "str(hke); str(ind); str(phi)\n"
            ]
        },
        {
            "cell_type": "markdown",
            "metadata": {},
            "source": [
                "## Conditional Inference Tree Analysis\n",
                "\n",
                "### ICE-PHI\n",
                "\n",
                "Generate CIT.\n"
            ]
        },
        {
            "cell_type": "code",
            "execution_count": null,
            "metadata": {},
            "outputs": [],
            "source": [
                "# set.seed (to store random numbers and thus make results reproducible)\n",
                "set.seed(2020083001) \n",
                "# create initial conditional inference tree model\n",
                "phi.ctree <- ctree(Variant ~ Adjective + Age + Gender + Function + Emotionality + SemanticCategory +  Gradability, data = phi)\n",
                "# extract p-values\n",
                "pvals <- unlist(nodeapply(phi.ctree, ids = nodeids(phi.ctree), function(n) info_node(n)$p.value))\n",
                "pvals <- pvals[pvals <.05]\n",
                "# plotting\n",
                "phit <- ggparty(phi.ctree) +\n",
                "  geom_edge() +\n",
                "  geom_edge_label(size = 3) +\n",
                "  geom_node_label(line_list = list(aes(label = splitvar),\n",
                "                                   aes(label = paste0(\"N=\", nodesize, \", p\", ifelse(pvals < .001, \"<.001\", paste0(\"=\", round(pvals, 3)))), \n",
                "                                       size = 10)),\n",
                "                  line_gpar = list(list(size = 10), list(size = 10)), \n",
                "                  ids = \"inner\") +\n",
                "  geom_node_label(aes(label = paste0(\"N=\", nodesize)),\n",
                "                  ids = \"terminal\", \n",
                "                  nudge_y = 0.01, \n",
                "                  nudge_x = 0.01, \n",
                "                  size = 4) +\n",
                "  geom_node_plot(gglist = list(geom_bar(aes(x = \"\", fill = Variant),\n",
                "                                        position = position_fill()),\n",
                "      theme_minimal(base_size = 10),\n",
                "      theme(panel.grid.major = element_blank(), \n",
                "            panel.grid.minor = element_blank()),\n",
                "      scale_fill_manual(values = c(\"gray20\", \"gray40\", \"gray60\", \"gray80\")),\n",
                "      scale_y_continuous(breaks = seq(0, 1, .2)),\n",
                "      xlab(\"\"), \n",
                "      ylab(\"Probability\")),\n",
                "    shared_axis_labels = TRUE)\n",
                "# save (uncheck to save)\n",
                "#ggsave(phit, file = here(\"images\", \"Fig4.png\"), height = 6,  width = 10, dpi = 320)\n",
                "# inspect\n",
                "phit\n"
            ]
        },
        {
            "cell_type": "markdown",
            "metadata": {},
            "source": [
                "Check accuracy of tree.\n",
                "\n"
            ]
        },
        {
            "cell_type": "code",
            "execution_count": null,
            "metadata": {},
            "outputs": [],
            "source": [
                "tphi <- phi %>%\n",
                "  dplyr::mutate(prediction = predict(phi.ctree, newdata = phi))\n",
                "confusionMatrix(data=tphi$prediction, reference = tphi$Variant)\n"
            ]
        },
        {
            "cell_type": "markdown",
            "metadata": {},
            "source": [
                "Check increase in accuracy by percentage points and by factor.\n",
                "\n"
            ]
        },
        {
            "cell_type": "code",
            "execution_count": null,
            "metadata": {},
            "outputs": [],
            "source": [
                "# percentage points\n",
                "0.5643-0.3758\n",
                "# improvement factor\n",
                "0.5643/0.3758\n"
            ]
        },
        {
            "cell_type": "markdown",
            "metadata": {},
            "source": [
                "### ICE-IND\n",
                "\n"
            ]
        },
        {
            "cell_type": "code",
            "execution_count": null,
            "metadata": {},
            "outputs": [],
            "source": [
                "# set.seed (to store random numbers and thus make results reproducible)\n",
                "set.seed(2020083001) \n",
                "# create initial conditional inference tree model\n",
                "ind.ctree <- ctree(Variant ~ Adjective + Age + Gender + Function +  Emotionality + SemanticCategory +  Gradability, data = ind)\n",
                "# extract p-values\n",
                "pvals <- unlist(nodeapply(ind.ctree, ids = nodeids(ind.ctree), function(n) info_node(n)$p.value))\n",
                "pvals <- pvals[pvals <.05]\n",
                "# inspect\n",
                "ind.ctree\n"
            ]
        },
        {
            "cell_type": "markdown",
            "metadata": {},
            "source": [
                "Prepare data.\n",
                "\n"
            ]
        },
        {
            "cell_type": "code",
            "execution_count": null,
            "metadata": {},
            "outputs": [],
            "source": [
                "# adapt adjectives\n",
                "different <- c(\"different\")\n",
                "group1 <- c(\"beautiful\", \"close\", \"difficult\", \"interesting\", \"nice\")\n",
                "group2 <- c(\"bad\", \"boring\", \"busy\", \"good\", \"happy\", \"long\", \"other\")\n",
                "group3 <- c(\"high\", \"hot\")\n",
                "# not in other groups\n",
                "group4 <- c(\"big\", \"expensive\", \"funny\", \"great\", \"hard\", \"important\", \"small\", \"young\")\n",
                "\n",
                "ind <- ind %>%\n",
                "  dplyr::mutate(Adjective = dplyr::case_when(Adjective %in%  different ~ \"different\",\n",
                "                                             Adjective %in%  group1 ~ \"g1\",\n",
                "                                             Adjective %in%  group2 ~ \"g2\",\n",
                "                                             Adjective %in%  group3 ~ \"g3\",\n",
                "                                             Adjective %in%  group4 ~ \"g4\",\n",
                "                                             T ~ Adjective)) %>%\n",
                "  dplyr::mutate(Emotionality = dplyr::case_when(Emotionality ==  \"neutral\" ~ \"non-pos.\",\n",
                "                                                Emotionality ==  \"negative\" ~ \"non-pos.\",\n",
                "                                                Emotionality ==  \"positive\" ~ \"pos.\",\n",
                "                                                T ~ Emotionality)) %>%\n",
                "  dplyr::mutate(SemanticCategory = dplyr::case_when(SemanticCategory ==  \"appearance\" ~ \"app.\",\n",
                "                                             SemanticCategory ==  \"evaluative\" ~ \"eval.\",\n",
                "                                             SemanticCategory ==  \"descriptive\" ~ \"other\",\n",
                "                                             SemanticCategory ==  \"membership\" ~ \"other\",\n",
                "                                             SemanticCategory ==  \"relational\" ~ \"other\",\n",
                "                                             T ~ SemanticCategory)) %>%\n",
                "  dplyr::mutate_if(is.character, factor)\n",
                "# inspect\n",
                "names(table(ind$Adjective))\n"
            ]
        },
        {
            "cell_type": "markdown",
            "metadata": {},
            "source": [
                "Generate CIT.\n",
                "\n"
            ]
        },
        {
            "cell_type": "code",
            "execution_count": null,
            "metadata": {},
            "outputs": [],
            "source": [
                "# set.seed (to store random numbers and thus make results reproducible)\n",
                "set.seed(2020083001) \n",
                "# create initial conditional inference tree model\n",
                "ind.ctree <- ctree(Variant ~ Adjective + Age + Gender + Function +  Emotionality + SemanticCategory +  Gradability, data = ind, minbucket = 20)\n",
                "# extract p-values\n",
                "pvals <- unlist(nodeapply(ind.ctree, ids = nodeids(ind.ctree), function(n) info_node(n)$p.value))\n",
                "pvals <- pvals[pvals <.05]\n",
                "# plotting\n",
                "indt <- ggparty(ind.ctree, terminal_space = 0.3,\n",
                "        # id specifies node; x and y values need to be between 0 and 1\n",
                "        layout = data.frame(id = c(1, 3, 4, 9),\n",
                "                            x = c(0.1, 0.7, 0.4, 0.9),\n",
                "                            y = c(1.0, 0.9, 0.8, 0.8))) +\n",
                "  geom_edge() +\n",
                "  geom_edge_label(size = 3) +\n",
                "  geom_node_label(line_list = list(aes(label = splitvar),\n",
                "                                   aes(label = paste0(\"N=\", nodesize, \", p\", ifelse(pvals < .001, \"<.001\", paste0(\"=\", round(pvals, 3)))), \n",
                "                                       size = 10)),\n",
                "                  line_gpar = list(list(size = 10), list(size = 10)), \n",
                "                  ids = \"inner\") +\n",
                "  geom_node_label(aes(label = paste0(\"N=\", nodesize)),\n",
                "                  ids = \"terminal\", \n",
                "                  nudge_y = 0.01, \n",
                "                  nudge_x = 0.01, \n",
                "                  size = 4) +\n",
                "  geom_node_plot(gglist = list(geom_bar(aes(x = \"\", fill = Variant),\n",
                "                                        position = position_fill()),\n",
                "      theme_minimal(base_size = 10),\n",
                "      theme(panel.grid.major = element_blank(), \n",
                "            panel.grid.minor = element_blank()),\n",
                "      scale_fill_manual(values = c(\"gray20\", \"gray40\", \"gray60\", \"gray80\")),\n",
                "      scale_y_continuous(breaks = seq(0, 1, .2)),\n",
                "      xlab(\"\"), \n",
                "      ylab(\"Probability\")),\n",
                "    shared_axis_labels = TRUE)\n",
                "# save (uncheck to save)\n",
                "#ggsave(indt, file = here(\"images\", \"Fig5.png\"), height = 6,  width = 10, dpi = 320)\n",
                "# inspect\n",
                "indt\n"
            ]
        },
        {
            "cell_type": "markdown",
            "metadata": {},
            "source": [
                "Check accuracy of tree\n",
                "\n"
            ]
        },
        {
            "cell_type": "code",
            "execution_count": null,
            "metadata": {},
            "outputs": [],
            "source": [
                "tind <- ind %>%\n",
                "  dplyr::mutate(prediction = predict(ind.ctree, newdata = ind))\n",
                "confusionMatrix(data=tind$prediction, reference = tind$Variant)\n"
            ]
        },
        {
            "cell_type": "markdown",
            "metadata": {},
            "source": [
                "Check accuracy of tree\n",
                "\n"
            ]
        },
        {
            "cell_type": "code",
            "execution_count": null,
            "metadata": {},
            "outputs": [],
            "source": [
                "# percentage points\n",
                "0.7424-0.7314\n",
                "# improvement factor\n",
                "0.7424/0.7314\n"
            ]
        },
        {
            "cell_type": "markdown",
            "metadata": {},
            "source": [
                "### ICE-HK\n",
                "\n"
            ]
        },
        {
            "cell_type": "code",
            "execution_count": null,
            "metadata": {},
            "outputs": [],
            "source": [
                "# set.seed (to store random numbers and thus make results reproducible)\n",
                "set.seed(2020083001) \n",
                "# create initial conditional inference tree model\n",
                "hke.ctree <- ctree(Variant ~ Adjective + Age + Gender + Function + Date + Emotionality + SemanticCategory +  Gradability, data = hke)\n",
                "# inspect\n",
                "hke.ctree\n"
            ]
        },
        {
            "cell_type": "markdown",
            "metadata": {},
            "source": [
                "Prepare data.\n",
                "\n"
            ]
        },
        {
            "cell_type": "code",
            "execution_count": null,
            "metadata": {},
            "outputs": [],
            "source": [
                "g1 <- c(\"beautiful\", \"boring\", \"busy\", \"close\", \"difficult\", \"expensive\", \"funny\", \"happy\", \"high\", \"hot\", \"important\", \"long\", \"other\", \"small\", \"young\")\n",
                "g2 <- c(\"bad\", \"big\", \"different\", \"good\", \"great\", \"hard\", \"interesting\", \"nice\")\n",
                "\n",
                "hke <- hke %>%\n",
                "  dplyr::mutate(Adjective = dplyr::case_when(Adjective %in%  g1 ~ \"g1\",\n",
                "                                             Adjective %in%  g2 ~ \"g2\",\n",
                "                                             T ~ Adjective)) %>%\n",
                "    dplyr::mutate(Emotionality = dplyr::case_when(Emotionality ==  \"neutral\" ~ \"non-neg.\",\n",
                "                                                Emotionality ==  \"negative\" ~ \"neg.\",\n",
                "                                                Emotionality ==  \"positive\" ~ \"non-neg.\",\n",
                "                                                T ~ Emotionality)) %>%\n",
                "    dplyr::mutate(SemanticCategory = dplyr::case_when(SemanticCategory ==  \"appearance\" ~ \"app.\",\n",
                "                                             SemanticCategory ==  \"evaluative\" ~ \"eval.\",\n",
                "                                             SemanticCategory ==  \"descriptive\" ~ \"sem1\",\n",
                "                                             SemanticCategory ==  \"membership\" ~ \"sem1\",\n",
                "                                             SemanticCategory ==  \"relational\" ~ \"sem1\",\n",
                "                                             T ~ SemanticCategory)) %>%\n",
                "  dplyr::mutate_if(is.character, factor)\n"
            ]
        },
        {
            "cell_type": "markdown",
            "metadata": {},
            "source": [
                "Generate CIT.\n",
                "\n"
            ]
        },
        {
            "cell_type": "code",
            "execution_count": null,
            "metadata": {},
            "outputs": [],
            "source": [
                "# set.seed (to store random numbers and thus make results reproducible)\n",
                "set.seed(2020083001) \n",
                "# create initial conditional inference tree model\n",
                "hke.ctree <- ctree(Variant ~ Adjective + Age + Gender + Function + Date + Emotionality + SemanticCategory +  Gradability, data = hke, minbucket = 20)\n",
                "# plotting\n",
                "# extract p-values\n",
                "pvals <- unlist(nodeapply(hke.ctree, ids = nodeids(hke.ctree), function(n) info_node(n)$p.value))\n",
                "pvals <- pvals[pvals <.05]\n",
                "# plotting\n",
                "hket <- ggparty(hke.ctree) +\n",
                "  geom_edge() +\n",
                "  geom_edge_label(size = 3) +\n",
                "  geom_node_label(line_list = list(aes(label = splitvar),\n",
                "                                   aes(label = paste0(\"N=\", nodesize, \", p\", ifelse(pvals < .001, \"<.001\", paste0(\"=\", round(pvals, 3)))), \n",
                "                                       size = 10)),\n",
                "                  line_gpar = list(list(size = 10), list(size = 10)), \n",
                "                  ids = \"inner\") +\n",
                "  geom_node_label(aes(label = paste0(\"N=\", nodesize)),\n",
                "                  ids = \"terminal\", \n",
                "                  nudge_y = 0.01, \n",
                "                  nudge_x = 0.01, \n",
                "                  size = 4) +\n",
                "  geom_node_plot(gglist = list(geom_bar(aes(x = \"\", fill = Variant),\n",
                "                                        position = position_fill()),\n",
                "      theme_minimal(base_size = 10),\n",
                "      theme(panel.grid.major = element_blank(), \n",
                "            panel.grid.minor = element_blank()),\n",
                "      scale_fill_manual(values = c(\"gray20\", \"gray40\", \"gray60\", \"gray80\")),\n",
                "      scale_y_continuous(breaks = seq(0, 1, .2)),\n",
                "      xlab(\"\"), \n",
                "      ylab(\"Probability\")),\n",
                "    shared_axis_labels = TRUE)\n",
                "# save (uncheck to save)\n",
                "#ggsave(hket, file = here(\"images\", \"Fig6.png\"), height = 6,  width = 10, dpi = 320)\n",
                "# inspect\n",
                "hket\n"
            ]
        },
        {
            "cell_type": "markdown",
            "metadata": {},
            "source": [
                "Check accuracy of tree.\n",
                "\n"
            ]
        },
        {
            "cell_type": "code",
            "execution_count": null,
            "metadata": {},
            "outputs": [],
            "source": [
                "thke <- hke %>%\n",
                "  dplyr::mutate(prediction = predict(hke.ctree, newdata = hke))\n",
                "confusionMatrix(data=thke$prediction, reference = thke$Variant)\n"
            ]
        },
        {
            "cell_type": "markdown",
            "metadata": {},
            "source": [
                "## Outro\n",
                "\n",
                "Extract session information.\n"
            ]
        },
        {
            "cell_type": "code",
            "execution_count": null,
            "metadata": {},
            "outputs": [],
            "source": [
                "sessionInfo()\n",
                "\n"
            ]
        }
    ],
    "metadata": {
        "anaconda-cloud": "",
        "kernelspec": {
            "display_name": "R",
            "langauge": "R",
            "name": "ir"
        },
        "language_info": {
            "codemirror_mode": "r",
            "file_extension": ".r",
            "mimetype": "text/x-r-source",
            "name": "R",
            "pygments_lexer": "r",
            "version": "3.4.1"
        }
    },
    "nbformat": 4,
    "nbformat_minor": 1
}
